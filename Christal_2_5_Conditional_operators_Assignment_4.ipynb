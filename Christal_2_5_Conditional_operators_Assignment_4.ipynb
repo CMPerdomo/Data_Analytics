{
  "nbformat": 4,
  "nbformat_minor": 0,
  "metadata": {
    "colab": {
      "name": "Christal_2-5 Conditional operators Assignment 4.ipynb",
      "provenance": [],
      "include_colab_link": true
    },
    "kernelspec": {
      "name": "python3",
      "display_name": "Python 3"
    },
    "language_info": {
      "name": "python"
    }
  },
  "cells": [
    {
      "cell_type": "markdown",
      "metadata": {
        "id": "view-in-github",
        "colab_type": "text"
      },
      "source": [
        "<a href=\"https://colab.research.google.com/github/CMPerdomo/Data_Analytics/blob/main/Christal_2_5_Conditional_operators_Assignment_4.ipynb\" target=\"_parent\"><img src=\"https://colab.research.google.com/assets/colab-badge.svg\" alt=\"Open In Colab\"/></a>"
      ]
    },
    {
      "cell_type": "markdown",
      "source": [
        "##2-5 Conditional operators and if statements\n"
      ],
      "metadata": {
        "id": "JJNI2qrwqgYB"
      }
    },
    {
      "cell_type": "markdown",
      "source": [
        "## Task 1: Admin user names\n",
        "* Make a list of 5 or more usernames, including an admin account. Imagine you are writing code that will welcome people to your application on login. Loop through the list and print your greeting.\n",
        "* If the admin account logs in, give them a special greeting.  They’re the admin, after all!\n",
        "* Other users can get the generic greeting"
      ],
      "metadata": {
        "id": "mXe7c59GqpEX"
      }
    },
    {
      "cell_type": "code",
      "execution_count": null,
      "metadata": {
        "id": "TFOFGzWWqSNV",
        "colab": {
          "base_uri": "https://localhost:8080/"
        },
        "outputId": "472fd607-9d34-42c0-edb8-84a83007dcdc"
      },
      "outputs": [
        {
          "output_type": "stream",
          "name": "stdout",
          "text": [
            "Welcome! Here is your username: Ty_Gers.\n",
            "Welcome! Here is your username: Cara_Petes.\n",
            "Welcome! Here is your username: Ellie_Fant.\n",
            "Welcome! Here is your username: Joe_Guar.\n",
            "Welcome and glad to have you on the team as an admin! Here is your username: Admin1.\n"
          ]
        }
      ],
      "source": [
        "username = [\"Ty_Gers\", \"Cara_Petes\", \"Ellie_Fant\", \"Joe_Guar\", \"Admin1\"]\n",
        "for user in username:\n",
        "  if user == \"Admin1\":\n",
        "    print(\"Welcome and glad to have you on the team as an admin! Here is your username: \" + user + \".\")\n",
        "  else:\n",
        "    print(\"Welcome! Here is your username: \" + user + \".\")"
      ]
    },
    {
      "cell_type": "code",
      "source": [
        ""
      ],
      "metadata": {
        "id": "j3Hr_Lv7qw0I"
      },
      "execution_count": null,
      "outputs": []
    },
    {
      "cell_type": "code",
      "source": [
        ""
      ],
      "metadata": {
        "id": "OI5G7XhaqxKD"
      },
      "execution_count": null,
      "outputs": []
    },
    {
      "cell_type": "code",
      "source": [
        ""
      ],
      "metadata": {
        "id": "TVQL3gzLq39k"
      },
      "execution_count": null,
      "outputs": []
    },
    {
      "cell_type": "code",
      "source": [
        ""
      ],
      "metadata": {
        "id": "eAG0F5X3q4K_"
      },
      "execution_count": null,
      "outputs": []
    },
    {
      "cell_type": "markdown",
      "source": [
        "##Task 2: Numbers\n",
        "\n",
        "* Store numbers 1-10 in a list\n",
        "* Loop through the list\n",
        "* Use an if-elif-else chain inside your loop to print the ordinal ending for each number – for example – 1st, 2nd, 3rd … etc."
      ],
      "metadata": {
        "id": "g3nnh2NJq9gY"
      }
    },
    {
      "cell_type": "code",
      "source": [
        "numbers = list(range(1,11))\n",
        "print(numbers)\n",
        "\n",
        "for num in numbers:\n",
        "    if num == 1:\n",
        "        print(str(num) + \"st\")\n",
        "    elif num == 2:\n",
        "        print(str(num) + \"nd.\")\n",
        "    elif num == 3:\n",
        "        print(str(num) + \"rd.\")\n",
        "    else:\n",
        "        print(str(num) + \"th.\")"
      ],
      "metadata": {
        "id": "DwBbjFgTrWps",
        "colab": {
          "base_uri": "https://localhost:8080/"
        },
        "outputId": "6b3b68df-b1d9-4be8-ab5d-35dd8d441b19"
      },
      "execution_count": null,
      "outputs": [
        {
          "output_type": "stream",
          "name": "stdout",
          "text": [
            "[1, 2, 3, 4, 5, 6, 7, 8, 9, 10]\n",
            "1st\n",
            "2nd.\n",
            "3rd.\n",
            "4th.\n",
            "5th.\n",
            "6th.\n",
            "7th.\n",
            "8th.\n",
            "9th.\n",
            "10th.\n"
          ]
        }
      ]
    },
    {
      "cell_type": "code",
      "source": [
        ""
      ],
      "metadata": {
        "id": "hlU__zZFrXAV"
      },
      "execution_count": null,
      "outputs": []
    },
    {
      "cell_type": "code",
      "source": [
        ""
      ],
      "metadata": {
        "id": "UwohuUMIrXKR"
      },
      "execution_count": null,
      "outputs": []
    }
  ]
}